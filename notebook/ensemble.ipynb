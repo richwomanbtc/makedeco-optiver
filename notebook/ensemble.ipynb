{
 "cells": [
  {
   "cell_type": "code",
   "execution_count": 1,
   "metadata": {},
   "outputs": [],
   "source": [
    "# NOTE: batchがシャッフルされてしまっており、NNの結果はもとdataframeの順番と整合的でないため、アンサンブルの結果がおかしくなる"
   ]
  },
  {
   "cell_type": "code",
   "execution_count": 2,
   "metadata": {},
   "outputs": [
    {
     "data": {
      "text/html": [
       "<div><style>\n",
       ".dataframe > thead > tr,\n",
       ".dataframe > tbody > tr {\n",
       "  text-align: right;\n",
       "  white-space: pre-wrap;\n",
       "}\n",
       "</style>\n",
       "<small>shape: (880_000, 3)</small><table border=\"1\" class=\"dataframe\"><thead><tr><th>date_id</th><th>stock_id</th><th>target</th></tr><tr><td>u16</td><td>u8</td><td>f32</td></tr></thead><tbody><tr><td>401</td><td>0</td><td>-1.32978</td></tr><tr><td>401</td><td>1</td><td>0.150204</td></tr><tr><td>401</td><td>2</td><td>2.750158</td></tr><tr><td>401</td><td>3</td><td>5.559921</td></tr><tr><td>401</td><td>4</td><td>-9.959936</td></tr><tr><td>&hellip;</td><td>&hellip;</td><td>&hellip;</td></tr><tr><td>480</td><td>195</td><td>2.310276</td></tr><tr><td>480</td><td>196</td><td>-8.220077</td></tr><tr><td>480</td><td>197</td><td>1.169443</td></tr><tr><td>480</td><td>198</td><td>-1.540184</td></tr><tr><td>480</td><td>199</td><td>-6.530285</td></tr></tbody></table></div>"
      ],
      "text/plain": [
       "shape: (880_000, 3)\n",
       "┌─────────┬──────────┬───────────┐\n",
       "│ date_id ┆ stock_id ┆ target    │\n",
       "│ ---     ┆ ---      ┆ ---       │\n",
       "│ u16     ┆ u8       ┆ f32       │\n",
       "╞═════════╪══════════╪═══════════╡\n",
       "│ 401     ┆ 0        ┆ -1.32978  │\n",
       "│ 401     ┆ 1        ┆ 0.150204  │\n",
       "│ 401     ┆ 2        ┆ 2.750158  │\n",
       "│ 401     ┆ 3        ┆ 5.559921  │\n",
       "│ 401     ┆ 4        ┆ -9.959936 │\n",
       "│ …       ┆ …        ┆ …         │\n",
       "│ 480     ┆ 195      ┆ 2.310276  │\n",
       "│ 480     ┆ 196      ┆ -8.220077 │\n",
       "│ 480     ┆ 197      ┆ 1.169443  │\n",
       "│ 480     ┆ 198      ┆ -1.540184 │\n",
       "│ 480     ┆ 199      ┆ -6.530285 │\n",
       "└─────────┴──────────┴───────────┘"
      ]
     },
     "execution_count": 2,
     "metadata": {},
     "output_type": "execute_result"
    }
   ],
   "source": [
    "import polars as pl\n",
    "from typing import Tuple\n",
    "train_eng = pl.read_parquet(\"data/train_eng.parquet\", columns=[\"date_id\", \"stock_id\", \"target\"])\n",
    "\n",
    "def split_by_date(df: pl.DataFrame, dates: Tuple[int, int]) -> pl.DataFrame:\n",
    "    return df.filter(\n",
    "        pl.col(\"date_id\").ge(dates[0]).and_(pl.col(\"date_id\").le(dates[1]))\n",
    "    )\n",
    "dates_test = (401, 480)\n",
    "test_data = split_by_date(train_eng, dates_test)\n",
    "test_data"
   ]
  },
  {
   "cell_type": "code",
   "execution_count": 3,
   "metadata": {},
   "outputs": [],
   "source": [
    "import pandas as pd\n",
    "models = [\"lgb\", \"xgb\", \"catboost\", \"cnn\", \"gru\", \"lstm\"]\n",
    "dfs = []\n",
    "for model in models:\n",
    "    df = pd.read_parquet(f\"./output/{model}_predictions.parquet\")[\"target\"]\n",
    "    dfs.append(df)\n",
    "\n",
    "df = pd.concat(dfs, axis=1, keys=models)"
   ]
  },
  {
   "cell_type": "code",
   "execution_count": 4,
   "metadata": {},
   "outputs": [
    {
     "data": {
      "text/html": [
       "<div>\n",
       "<style scoped>\n",
       "    .dataframe tbody tr th:only-of-type {\n",
       "        vertical-align: middle;\n",
       "    }\n",
       "\n",
       "    .dataframe tbody tr th {\n",
       "        vertical-align: top;\n",
       "    }\n",
       "\n",
       "    .dataframe thead th {\n",
       "        text-align: right;\n",
       "    }\n",
       "</style>\n",
       "<table border=\"1\" class=\"dataframe\">\n",
       "  <thead>\n",
       "    <tr style=\"text-align: right;\">\n",
       "      <th></th>\n",
       "      <th>lgb</th>\n",
       "      <th>xgb</th>\n",
       "      <th>catboost</th>\n",
       "      <th>cnn</th>\n",
       "      <th>gru</th>\n",
       "      <th>lstm</th>\n",
       "    </tr>\n",
       "  </thead>\n",
       "  <tbody>\n",
       "    <tr>\n",
       "      <th>0</th>\n",
       "      <td>1.053054</td>\n",
       "      <td>1.108541</td>\n",
       "      <td>1.122630</td>\n",
       "      <td>-6.911349</td>\n",
       "      <td>6.508505</td>\n",
       "      <td>-1.642773</td>\n",
       "    </tr>\n",
       "    <tr>\n",
       "      <th>1</th>\n",
       "      <td>-5.334840</td>\n",
       "      <td>-4.092080</td>\n",
       "      <td>-5.519453</td>\n",
       "      <td>1.779648</td>\n",
       "      <td>-2.046038</td>\n",
       "      <td>1.413247</td>\n",
       "    </tr>\n",
       "    <tr>\n",
       "      <th>2</th>\n",
       "      <td>1.804386</td>\n",
       "      <td>1.892154</td>\n",
       "      <td>1.688945</td>\n",
       "      <td>-1.375195</td>\n",
       "      <td>-1.917746</td>\n",
       "      <td>-0.160318</td>\n",
       "    </tr>\n",
       "    <tr>\n",
       "      <th>3</th>\n",
       "      <td>0.127272</td>\n",
       "      <td>-0.159102</td>\n",
       "      <td>-0.025283</td>\n",
       "      <td>0.792497</td>\n",
       "      <td>0.385002</td>\n",
       "      <td>0.087721</td>\n",
       "    </tr>\n",
       "    <tr>\n",
       "      <th>4</th>\n",
       "      <td>-3.650655</td>\n",
       "      <td>-3.687573</td>\n",
       "      <td>-3.586555</td>\n",
       "      <td>-1.622277</td>\n",
       "      <td>0.634913</td>\n",
       "      <td>0.011543</td>\n",
       "    </tr>\n",
       "    <tr>\n",
       "      <th>...</th>\n",
       "      <td>...</td>\n",
       "      <td>...</td>\n",
       "      <td>...</td>\n",
       "      <td>...</td>\n",
       "      <td>...</td>\n",
       "      <td>...</td>\n",
       "    </tr>\n",
       "    <tr>\n",
       "      <th>879995</th>\n",
       "      <td>-2.224638</td>\n",
       "      <td>-2.148515</td>\n",
       "      <td>-1.749194</td>\n",
       "      <td>-0.784402</td>\n",
       "      <td>-0.304411</td>\n",
       "      <td>-1.676512</td>\n",
       "    </tr>\n",
       "    <tr>\n",
       "      <th>879996</th>\n",
       "      <td>-0.904131</td>\n",
       "      <td>-1.430885</td>\n",
       "      <td>-0.986348</td>\n",
       "      <td>0.280511</td>\n",
       "      <td>-0.685694</td>\n",
       "      <td>-0.980154</td>\n",
       "    </tr>\n",
       "    <tr>\n",
       "      <th>879997</th>\n",
       "      <td>0.186629</td>\n",
       "      <td>0.265843</td>\n",
       "      <td>-0.050948</td>\n",
       "      <td>0.318113</td>\n",
       "      <td>-0.584958</td>\n",
       "      <td>1.479759</td>\n",
       "    </tr>\n",
       "    <tr>\n",
       "      <th>879998</th>\n",
       "      <td>1.512423</td>\n",
       "      <td>1.640055</td>\n",
       "      <td>1.708537</td>\n",
       "      <td>-0.519688</td>\n",
       "      <td>-0.636625</td>\n",
       "      <td>1.236915</td>\n",
       "    </tr>\n",
       "    <tr>\n",
       "      <th>879999</th>\n",
       "      <td>-3.355936</td>\n",
       "      <td>-3.399859</td>\n",
       "      <td>-2.481495</td>\n",
       "      <td>-2.322470</td>\n",
       "      <td>-1.198585</td>\n",
       "      <td>-2.665009</td>\n",
       "    </tr>\n",
       "  </tbody>\n",
       "</table>\n",
       "<p>880000 rows × 6 columns</p>\n",
       "</div>"
      ],
      "text/plain": [
       "             lgb       xgb  catboost       cnn       gru      lstm\n",
       "0       1.053054  1.108541  1.122630 -6.911349  6.508505 -1.642773\n",
       "1      -5.334840 -4.092080 -5.519453  1.779648 -2.046038  1.413247\n",
       "2       1.804386  1.892154  1.688945 -1.375195 -1.917746 -0.160318\n",
       "3       0.127272 -0.159102 -0.025283  0.792497  0.385002  0.087721\n",
       "4      -3.650655 -3.687573 -3.586555 -1.622277  0.634913  0.011543\n",
       "...          ...       ...       ...       ...       ...       ...\n",
       "879995 -2.224638 -2.148515 -1.749194 -0.784402 -0.304411 -1.676512\n",
       "879996 -0.904131 -1.430885 -0.986348  0.280511 -0.685694 -0.980154\n",
       "879997  0.186629  0.265843 -0.050948  0.318113 -0.584958  1.479759\n",
       "879998  1.512423  1.640055  1.708537 -0.519688 -0.636625  1.236915\n",
       "879999 -3.355936 -3.399859 -2.481495 -2.322470 -1.198585 -2.665009\n",
       "\n",
       "[880000 rows x 6 columns]"
      ]
     },
     "execution_count": 4,
     "metadata": {},
     "output_type": "execute_result"
    }
   ],
   "source": [
    "df"
   ]
  },
  {
   "cell_type": "code",
   "execution_count": 5,
   "metadata": {},
   "outputs": [],
   "source": [
    "df[\"ensemble\"] = df[\"catboost\"] * 0.1 + df[\"lgb\"] * 0.6 + df[\"xgb\"] * 0.3\n",
    "# df[\"ensemble\"] = df[\"cnn\"] * 0.3 + df[\"lstm\"] * 0.3 + df[\"gru\"] * 0.4\n",
    "# df[\"ensemble\"] = df[\"cnn\"]"
   ]
  },
  {
   "cell_type": "code",
   "execution_count": 6,
   "metadata": {},
   "outputs": [],
   "source": [
    "df = pd.concat([df, test_data.to_pandas()], axis=1)"
   ]
  },
  {
   "cell_type": "code",
   "execution_count": 7,
   "metadata": {},
   "outputs": [
    {
     "name": "stdout",
     "output_type": "stream",
     "text": [
      "5.83871\n"
     ]
    }
   ],
   "source": [
    "from sklearn.metrics import mean_absolute_error\n",
    "\n",
    "print(f\"{mean_absolute_error(df['ensemble'], df['target']):.5f}\")"
   ]
  },
  {
   "cell_type": "code",
   "execution_count": 8,
   "metadata": {},
   "outputs": [],
   "source": [
    "import json\n",
    "weight = json.load(open(\"data/weight.json\"))\n",
    "weight = dict(zip(range(200), weight))\n",
    "\n",
    "df[\"stock_weights\"] = df[\"stock_id\"].map(weight)\n",
    "df[\"ensemble_diff\"] = (\n",
    "    df[\"ensemble\"]\n",
    "    - (df[\"ensemble\"] * df[\"stock_weights\"]).sum() / df[\"stock_weights\"].sum()\n",
    ")"
   ]
  },
  {
   "cell_type": "code",
   "execution_count": 9,
   "metadata": {},
   "outputs": [
    {
     "name": "stdout",
     "output_type": "stream",
     "text": [
      "5.83871\n"
     ]
    }
   ],
   "source": [
    "print(f\"{mean_absolute_error(df['ensemble_diff'], df['target']):.5f}\")"
   ]
  },
  {
   "cell_type": "code",
   "execution_count": null,
   "metadata": {},
   "outputs": [],
   "source": []
  }
 ],
 "metadata": {
  "kernelspec": {
   "display_name": ".venv",
   "language": "python",
   "name": "python3"
  },
  "language_info": {
   "codemirror_mode": {
    "name": "ipython",
    "version": 3
   },
   "file_extension": ".py",
   "mimetype": "text/x-python",
   "name": "python",
   "nbconvert_exporter": "python",
   "pygments_lexer": "ipython3",
   "version": "3.10.13"
  }
 },
 "nbformat": 4,
 "nbformat_minor": 2
}
